{
 "cells": [
  {
   "cell_type": "code",
   "execution_count": 1,
   "metadata": {},
   "outputs": [],
   "source": [
    "import pandas as pd\n",
    "import numpy as np\n",
    "import matplotlib.pyplot as plt"
   ]
  },
  {
   "cell_type": "code",
   "execution_count": 2,
   "metadata": {},
   "outputs": [],
   "source": [
    "df1 = pd.read_csv('goemotions_1.csv')\n",
    "df2 = pd.read_csv('goemotions_2.csv')\n",
    "df3 = pd.read_csv('goemotions_3.csv')"
   ]
  },
  {
   "cell_type": "code",
   "execution_count": 3,
   "metadata": {},
   "outputs": [],
   "source": [
    "df = df1.append(df2).reset_index()\n",
    "df = df.append(df3).reset_index()\n",
    "df = df.drop(columns = ['level_0', 'index'])"
   ]
  },
  {
   "cell_type": "code",
   "execution_count": 4,
   "metadata": {},
   "outputs": [],
   "source": [
    "raw = df"
   ]
  },
  {
   "cell_type": "code",
   "execution_count": 5,
   "metadata": {},
   "outputs": [
    {
     "data": {
      "text/html": [
       "<div>\n",
       "<style scoped>\n",
       "    .dataframe tbody tr th:only-of-type {\n",
       "        vertical-align: middle;\n",
       "    }\n",
       "\n",
       "    .dataframe tbody tr th {\n",
       "        vertical-align: top;\n",
       "    }\n",
       "\n",
       "    .dataframe thead th {\n",
       "        text-align: right;\n",
       "    }\n",
       "</style>\n",
       "<table border=\"1\" class=\"dataframe\">\n",
       "  <thead>\n",
       "    <tr style=\"text-align: right;\">\n",
       "      <th></th>\n",
       "      <th>text</th>\n",
       "      <th>id</th>\n",
       "      <th>author</th>\n",
       "      <th>subreddit</th>\n",
       "      <th>link_id</th>\n",
       "      <th>parent_id</th>\n",
       "      <th>created_utc</th>\n",
       "      <th>rater_id</th>\n",
       "      <th>example_very_unclear</th>\n",
       "      <th>admiration</th>\n",
       "      <th>...</th>\n",
       "      <th>love</th>\n",
       "      <th>nervousness</th>\n",
       "      <th>optimism</th>\n",
       "      <th>pride</th>\n",
       "      <th>realization</th>\n",
       "      <th>relief</th>\n",
       "      <th>remorse</th>\n",
       "      <th>sadness</th>\n",
       "      <th>surprise</th>\n",
       "      <th>neutral</th>\n",
       "    </tr>\n",
       "  </thead>\n",
       "  <tbody>\n",
       "    <tr>\n",
       "      <th>0</th>\n",
       "      <td>That game hurt.</td>\n",
       "      <td>eew5j0j</td>\n",
       "      <td>Brdd9</td>\n",
       "      <td>nrl</td>\n",
       "      <td>t3_ajis4z</td>\n",
       "      <td>t1_eew18eq</td>\n",
       "      <td>1.548381e+09</td>\n",
       "      <td>1</td>\n",
       "      <td>False</td>\n",
       "      <td>0</td>\n",
       "      <td>...</td>\n",
       "      <td>0</td>\n",
       "      <td>0</td>\n",
       "      <td>0</td>\n",
       "      <td>0</td>\n",
       "      <td>0</td>\n",
       "      <td>0</td>\n",
       "      <td>0</td>\n",
       "      <td>1</td>\n",
       "      <td>0</td>\n",
       "      <td>0</td>\n",
       "    </tr>\n",
       "    <tr>\n",
       "      <th>1</th>\n",
       "      <td>&gt;sexuality shouldn’t be a grouping category I...</td>\n",
       "      <td>eemcysk</td>\n",
       "      <td>TheGreen888</td>\n",
       "      <td>unpopularopinion</td>\n",
       "      <td>t3_ai4q37</td>\n",
       "      <td>t3_ai4q37</td>\n",
       "      <td>1.548084e+09</td>\n",
       "      <td>37</td>\n",
       "      <td>True</td>\n",
       "      <td>0</td>\n",
       "      <td>...</td>\n",
       "      <td>0</td>\n",
       "      <td>0</td>\n",
       "      <td>0</td>\n",
       "      <td>0</td>\n",
       "      <td>0</td>\n",
       "      <td>0</td>\n",
       "      <td>0</td>\n",
       "      <td>0</td>\n",
       "      <td>0</td>\n",
       "      <td>0</td>\n",
       "    </tr>\n",
       "    <tr>\n",
       "      <th>2</th>\n",
       "      <td>You do right, if you don't care then fuck 'em!</td>\n",
       "      <td>ed2mah1</td>\n",
       "      <td>Labalool</td>\n",
       "      <td>confessions</td>\n",
       "      <td>t3_abru74</td>\n",
       "      <td>t1_ed2m7g7</td>\n",
       "      <td>1.546428e+09</td>\n",
       "      <td>37</td>\n",
       "      <td>False</td>\n",
       "      <td>0</td>\n",
       "      <td>...</td>\n",
       "      <td>0</td>\n",
       "      <td>0</td>\n",
       "      <td>0</td>\n",
       "      <td>0</td>\n",
       "      <td>0</td>\n",
       "      <td>0</td>\n",
       "      <td>0</td>\n",
       "      <td>0</td>\n",
       "      <td>0</td>\n",
       "      <td>1</td>\n",
       "    </tr>\n",
       "    <tr>\n",
       "      <th>3</th>\n",
       "      <td>Man I love reddit.</td>\n",
       "      <td>eeibobj</td>\n",
       "      <td>MrsRobertshaw</td>\n",
       "      <td>facepalm</td>\n",
       "      <td>t3_ahulml</td>\n",
       "      <td>t3_ahulml</td>\n",
       "      <td>1.547965e+09</td>\n",
       "      <td>18</td>\n",
       "      <td>False</td>\n",
       "      <td>0</td>\n",
       "      <td>...</td>\n",
       "      <td>1</td>\n",
       "      <td>0</td>\n",
       "      <td>0</td>\n",
       "      <td>0</td>\n",
       "      <td>0</td>\n",
       "      <td>0</td>\n",
       "      <td>0</td>\n",
       "      <td>0</td>\n",
       "      <td>0</td>\n",
       "      <td>0</td>\n",
       "    </tr>\n",
       "    <tr>\n",
       "      <th>4</th>\n",
       "      <td>[NAME] was nowhere near them, he was by the Fa...</td>\n",
       "      <td>eda6yn6</td>\n",
       "      <td>American_Fascist713</td>\n",
       "      <td>starwarsspeculation</td>\n",
       "      <td>t3_ackt2f</td>\n",
       "      <td>t1_eda65q2</td>\n",
       "      <td>1.546669e+09</td>\n",
       "      <td>2</td>\n",
       "      <td>False</td>\n",
       "      <td>0</td>\n",
       "      <td>...</td>\n",
       "      <td>0</td>\n",
       "      <td>0</td>\n",
       "      <td>0</td>\n",
       "      <td>0</td>\n",
       "      <td>0</td>\n",
       "      <td>0</td>\n",
       "      <td>0</td>\n",
       "      <td>0</td>\n",
       "      <td>0</td>\n",
       "      <td>1</td>\n",
       "    </tr>\n",
       "  </tbody>\n",
       "</table>\n",
       "<p>5 rows × 37 columns</p>\n",
       "</div>"
      ],
      "text/plain": [
       "                                                text       id  \\\n",
       "0                                    That game hurt.  eew5j0j   \n",
       "1   >sexuality shouldn’t be a grouping category I...  eemcysk   \n",
       "2     You do right, if you don't care then fuck 'em!  ed2mah1   \n",
       "3                                 Man I love reddit.  eeibobj   \n",
       "4  [NAME] was nowhere near them, he was by the Fa...  eda6yn6   \n",
       "\n",
       "                author            subreddit    link_id   parent_id  \\\n",
       "0                Brdd9                  nrl  t3_ajis4z  t1_eew18eq   \n",
       "1          TheGreen888     unpopularopinion  t3_ai4q37   t3_ai4q37   \n",
       "2             Labalool          confessions  t3_abru74  t1_ed2m7g7   \n",
       "3        MrsRobertshaw             facepalm  t3_ahulml   t3_ahulml   \n",
       "4  American_Fascist713  starwarsspeculation  t3_ackt2f  t1_eda65q2   \n",
       "\n",
       "    created_utc  rater_id  example_very_unclear  admiration  ...  love  \\\n",
       "0  1.548381e+09         1                 False           0  ...     0   \n",
       "1  1.548084e+09        37                  True           0  ...     0   \n",
       "2  1.546428e+09        37                 False           0  ...     0   \n",
       "3  1.547965e+09        18                 False           0  ...     1   \n",
       "4  1.546669e+09         2                 False           0  ...     0   \n",
       "\n",
       "   nervousness  optimism  pride  realization  relief  remorse  sadness  \\\n",
       "0            0         0      0            0       0        0        1   \n",
       "1            0         0      0            0       0        0        0   \n",
       "2            0         0      0            0       0        0        0   \n",
       "3            0         0      0            0       0        0        0   \n",
       "4            0         0      0            0       0        0        0   \n",
       "\n",
       "   surprise  neutral  \n",
       "0         0        0  \n",
       "1         0        0  \n",
       "2         0        1  \n",
       "3         0        0  \n",
       "4         0        1  \n",
       "\n",
       "[5 rows x 37 columns]"
      ]
     },
     "execution_count": 5,
     "metadata": {},
     "output_type": "execute_result"
    }
   ],
   "source": [
    "df.head()"
   ]
  },
  {
   "cell_type": "code",
   "execution_count": 6,
   "metadata": {},
   "outputs": [
    {
     "name": "stdout",
     "output_type": "stream",
     "text": [
      "<class 'pandas.core.frame.DataFrame'>\n",
      "RangeIndex: 211225 entries, 0 to 211224\n",
      "Data columns (total 37 columns):\n",
      " #   Column                Non-Null Count   Dtype  \n",
      "---  ------                --------------   -----  \n",
      " 0   text                  211225 non-null  object \n",
      " 1   id                    211225 non-null  object \n",
      " 2   author                211225 non-null  object \n",
      " 3   subreddit             211225 non-null  object \n",
      " 4   link_id               211225 non-null  object \n",
      " 5   parent_id             211225 non-null  object \n",
      " 6   created_utc           211225 non-null  float64\n",
      " 7   rater_id              211225 non-null  int64  \n",
      " 8   example_very_unclear  211225 non-null  bool   \n",
      " 9   admiration            211225 non-null  int64  \n",
      " 10  amusement             211225 non-null  int64  \n",
      " 11  anger                 211225 non-null  int64  \n",
      " 12  annoyance             211225 non-null  int64  \n",
      " 13  approval              211225 non-null  int64  \n",
      " 14  caring                211225 non-null  int64  \n",
      " 15  confusion             211225 non-null  int64  \n",
      " 16  curiosity             211225 non-null  int64  \n",
      " 17  desire                211225 non-null  int64  \n",
      " 18  disappointment        211225 non-null  int64  \n",
      " 19  disapproval           211225 non-null  int64  \n",
      " 20  disgust               211225 non-null  int64  \n",
      " 21  embarrassment         211225 non-null  int64  \n",
      " 22  excitement            211225 non-null  int64  \n",
      " 23  fear                  211225 non-null  int64  \n",
      " 24  gratitude             211225 non-null  int64  \n",
      " 25  grief                 211225 non-null  int64  \n",
      " 26  joy                   211225 non-null  int64  \n",
      " 27  love                  211225 non-null  int64  \n",
      " 28  nervousness           211225 non-null  int64  \n",
      " 29  optimism              211225 non-null  int64  \n",
      " 30  pride                 211225 non-null  int64  \n",
      " 31  realization           211225 non-null  int64  \n",
      " 32  relief                211225 non-null  int64  \n",
      " 33  remorse               211225 non-null  int64  \n",
      " 34  sadness               211225 non-null  int64  \n",
      " 35  surprise              211225 non-null  int64  \n",
      " 36  neutral               211225 non-null  int64  \n",
      "dtypes: bool(1), float64(1), int64(29), object(6)\n",
      "memory usage: 58.2+ MB\n"
     ]
    }
   ],
   "source": [
    "df.info()"
   ]
  },
  {
   "cell_type": "code",
   "execution_count": 7,
   "metadata": {},
   "outputs": [],
   "source": [
    "df['created_utc'] = pd.to_datetime(df['created_utc'])\n",
    "df = df.drop(columns = ['created_utc'])"
   ]
  },
  {
   "cell_type": "code",
   "execution_count": 8,
   "metadata": {},
   "outputs": [
    {
     "data": {
      "text/plain": [
       "82"
      ]
     },
     "execution_count": 8,
     "metadata": {},
     "output_type": "execute_result"
    }
   ],
   "source": [
    "len(df['rater_id'].unique())"
   ]
  },
  {
   "cell_type": "code",
   "execution_count": 9,
   "metadata": {},
   "outputs": [
    {
     "data": {
      "text/plain": [
       "Index(['text', 'id', 'author', 'subreddit', 'link_id', 'parent_id', 'rater_id',\n",
       "       'example_very_unclear', 'admiration', 'amusement', 'anger', 'annoyance',\n",
       "       'approval', 'caring', 'confusion', 'curiosity', 'desire',\n",
       "       'disappointment', 'disapproval', 'disgust', 'embarrassment',\n",
       "       'excitement', 'fear', 'gratitude', 'grief', 'joy', 'love',\n",
       "       'nervousness', 'optimism', 'pride', 'realization', 'relief', 'remorse',\n",
       "       'sadness', 'surprise', 'neutral'],\n",
       "      dtype='object')"
      ]
     },
     "execution_count": 9,
     "metadata": {},
     "output_type": "execute_result"
    }
   ],
   "source": [
    "cols = df.columns\n",
    "cols"
   ]
  },
  {
   "cell_type": "code",
   "execution_count": 10,
   "metadata": {},
   "outputs": [],
   "source": [
    "df = df.groupby(['text', 'id', 'author', 'subreddit', 'link_id', 'parent_id','example_very_unclear']).sum()\n",
    "df = df.drop(columns=['rater_id']).reset_index()"
   ]
  },
  {
   "cell_type": "code",
   "execution_count": 11,
   "metadata": {},
   "outputs": [
    {
     "data": {
      "text/html": [
       "<div>\n",
       "<style scoped>\n",
       "    .dataframe tbody tr th:only-of-type {\n",
       "        vertical-align: middle;\n",
       "    }\n",
       "\n",
       "    .dataframe tbody tr th {\n",
       "        vertical-align: top;\n",
       "    }\n",
       "\n",
       "    .dataframe thead th {\n",
       "        text-align: right;\n",
       "    }\n",
       "</style>\n",
       "<table border=\"1\" class=\"dataframe\">\n",
       "  <thead>\n",
       "    <tr style=\"text-align: right;\">\n",
       "      <th></th>\n",
       "      <th>text</th>\n",
       "      <th>id</th>\n",
       "      <th>author</th>\n",
       "      <th>subreddit</th>\n",
       "      <th>link_id</th>\n",
       "      <th>parent_id</th>\n",
       "      <th>example_very_unclear</th>\n",
       "      <th>admiration</th>\n",
       "      <th>amusement</th>\n",
       "      <th>anger</th>\n",
       "      <th>...</th>\n",
       "      <th>love</th>\n",
       "      <th>nervousness</th>\n",
       "      <th>optimism</th>\n",
       "      <th>pride</th>\n",
       "      <th>realization</th>\n",
       "      <th>relief</th>\n",
       "      <th>remorse</th>\n",
       "      <th>sadness</th>\n",
       "      <th>surprise</th>\n",
       "      <th>neutral</th>\n",
       "    </tr>\n",
       "  </thead>\n",
       "  <tbody>\n",
       "    <tr>\n",
       "      <th>0</th>\n",
       "      <td>\"If you don't wear BROWN AND ORANGE...YOU DON...</td>\n",
       "      <td>ee3fxil</td>\n",
       "      <td>pj7140</td>\n",
       "      <td>Browns</td>\n",
       "      <td>t3_afy4f0</td>\n",
       "      <td>t3_afy4f0</td>\n",
       "      <td>False</td>\n",
       "      <td>0</td>\n",
       "      <td>0</td>\n",
       "      <td>1</td>\n",
       "      <td>...</td>\n",
       "      <td>0</td>\n",
       "      <td>0</td>\n",
       "      <td>1</td>\n",
       "      <td>0</td>\n",
       "      <td>0</td>\n",
       "      <td>0</td>\n",
       "      <td>0</td>\n",
       "      <td>0</td>\n",
       "      <td>0</td>\n",
       "      <td>2</td>\n",
       "    </tr>\n",
       "    <tr>\n",
       "      <th>1</th>\n",
       "      <td>\"What do Scottish people look like?\" How I wo...</td>\n",
       "      <td>ee7cu0z</td>\n",
       "      <td>Cheezeburger_Picnic</td>\n",
       "      <td>Scotland</td>\n",
       "      <td>t3_agmpx9</td>\n",
       "      <td>t3_agmpx9</td>\n",
       "      <td>False</td>\n",
       "      <td>0</td>\n",
       "      <td>0</td>\n",
       "      <td>0</td>\n",
       "      <td>...</td>\n",
       "      <td>2</td>\n",
       "      <td>0</td>\n",
       "      <td>0</td>\n",
       "      <td>0</td>\n",
       "      <td>0</td>\n",
       "      <td>0</td>\n",
       "      <td>0</td>\n",
       "      <td>0</td>\n",
       "      <td>0</td>\n",
       "      <td>0</td>\n",
       "    </tr>\n",
       "    <tr>\n",
       "      <th>2</th>\n",
       "      <td>### A surprise, to be sure, but a welcome one</td>\n",
       "      <td>edglo8q</td>\n",
       "      <td>GPFlopi</td>\n",
       "      <td>youseeingthisshit</td>\n",
       "      <td>t3_ad1hnf</td>\n",
       "      <td>t3_ad1hnf</td>\n",
       "      <td>False</td>\n",
       "      <td>0</td>\n",
       "      <td>0</td>\n",
       "      <td>0</td>\n",
       "      <td>...</td>\n",
       "      <td>0</td>\n",
       "      <td>0</td>\n",
       "      <td>0</td>\n",
       "      <td>0</td>\n",
       "      <td>0</td>\n",
       "      <td>0</td>\n",
       "      <td>0</td>\n",
       "      <td>0</td>\n",
       "      <td>3</td>\n",
       "      <td>0</td>\n",
       "    </tr>\n",
       "    <tr>\n",
       "      <th>3</th>\n",
       "      <td>'*Pray*, v. To ask that the laws of the unive...</td>\n",
       "      <td>edcjn6t</td>\n",
       "      <td>DarrenFromFinance</td>\n",
       "      <td>exchristian</td>\n",
       "      <td>t3_ad0jpf</td>\n",
       "      <td>t3_ad0jpf</td>\n",
       "      <td>False</td>\n",
       "      <td>0</td>\n",
       "      <td>0</td>\n",
       "      <td>0</td>\n",
       "      <td>...</td>\n",
       "      <td>0</td>\n",
       "      <td>0</td>\n",
       "      <td>0</td>\n",
       "      <td>0</td>\n",
       "      <td>0</td>\n",
       "      <td>0</td>\n",
       "      <td>0</td>\n",
       "      <td>0</td>\n",
       "      <td>0</td>\n",
       "      <td>3</td>\n",
       "    </tr>\n",
       "    <tr>\n",
       "      <th>4</th>\n",
       "      <td>&gt;it'll get invaded by tankie, unfortunately. ...</td>\n",
       "      <td>eevxqzo</td>\n",
       "      <td>BarrelMaker69</td>\n",
       "      <td>BreadTube</td>\n",
       "      <td>t3_ajbca2</td>\n",
       "      <td>t1_eevv6db</td>\n",
       "      <td>False</td>\n",
       "      <td>0</td>\n",
       "      <td>0</td>\n",
       "      <td>0</td>\n",
       "      <td>...</td>\n",
       "      <td>0</td>\n",
       "      <td>0</td>\n",
       "      <td>0</td>\n",
       "      <td>0</td>\n",
       "      <td>0</td>\n",
       "      <td>0</td>\n",
       "      <td>0</td>\n",
       "      <td>0</td>\n",
       "      <td>0</td>\n",
       "      <td>2</td>\n",
       "    </tr>\n",
       "  </tbody>\n",
       "</table>\n",
       "<p>5 rows × 35 columns</p>\n",
       "</div>"
      ],
      "text/plain": [
       "                                                text       id  \\\n",
       "0   \"If you don't wear BROWN AND ORANGE...YOU DON...  ee3fxil   \n",
       "1   \"What do Scottish people look like?\" How I wo...  ee7cu0z   \n",
       "2     ### A surprise, to be sure, but a welcome one   edglo8q   \n",
       "3   '*Pray*, v. To ask that the laws of the unive...  edcjn6t   \n",
       "4   >it'll get invaded by tankie, unfortunately. ...  eevxqzo   \n",
       "\n",
       "                author          subreddit    link_id   parent_id  \\\n",
       "0               pj7140             Browns  t3_afy4f0   t3_afy4f0   \n",
       "1  Cheezeburger_Picnic           Scotland  t3_agmpx9   t3_agmpx9   \n",
       "2              GPFlopi  youseeingthisshit  t3_ad1hnf   t3_ad1hnf   \n",
       "3    DarrenFromFinance        exchristian  t3_ad0jpf   t3_ad0jpf   \n",
       "4        BarrelMaker69          BreadTube  t3_ajbca2  t1_eevv6db   \n",
       "\n",
       "   example_very_unclear  admiration  amusement  anger  ...  love  nervousness  \\\n",
       "0                 False           0          0      1  ...     0            0   \n",
       "1                 False           0          0      0  ...     2            0   \n",
       "2                 False           0          0      0  ...     0            0   \n",
       "3                 False           0          0      0  ...     0            0   \n",
       "4                 False           0          0      0  ...     0            0   \n",
       "\n",
       "   optimism  pride  realization  relief  remorse  sadness  surprise  neutral  \n",
       "0         1      0            0       0        0        0         0        2  \n",
       "1         0      0            0       0        0        0         0        0  \n",
       "2         0      0            0       0        0        0         3        0  \n",
       "3         0      0            0       0        0        0         0        3  \n",
       "4         0      0            0       0        0        0         0        2  \n",
       "\n",
       "[5 rows x 35 columns]"
      ]
     },
     "execution_count": 11,
     "metadata": {},
     "output_type": "execute_result"
    }
   ],
   "source": [
    "df.head()"
   ]
  },
  {
   "cell_type": "code",
   "execution_count": 12,
   "metadata": {},
   "outputs": [
    {
     "name": "stdout",
     "output_type": "stream",
     "text": [
      "<class 'pandas.core.frame.DataFrame'>\n",
      "RangeIndex: 60742 entries, 0 to 60741\n",
      "Data columns (total 35 columns):\n",
      " #   Column                Non-Null Count  Dtype \n",
      "---  ------                --------------  ----- \n",
      " 0   text                  60742 non-null  object\n",
      " 1   id                    60742 non-null  object\n",
      " 2   author                60742 non-null  object\n",
      " 3   subreddit             60742 non-null  object\n",
      " 4   link_id               60742 non-null  object\n",
      " 5   parent_id             60742 non-null  object\n",
      " 6   example_very_unclear  60742 non-null  bool  \n",
      " 7   admiration            60742 non-null  int64 \n",
      " 8   amusement             60742 non-null  int64 \n",
      " 9   anger                 60742 non-null  int64 \n",
      " 10  annoyance             60742 non-null  int64 \n",
      " 11  approval              60742 non-null  int64 \n",
      " 12  caring                60742 non-null  int64 \n",
      " 13  confusion             60742 non-null  int64 \n",
      " 14  curiosity             60742 non-null  int64 \n",
      " 15  desire                60742 non-null  int64 \n",
      " 16  disappointment        60742 non-null  int64 \n",
      " 17  disapproval           60742 non-null  int64 \n",
      " 18  disgust               60742 non-null  int64 \n",
      " 19  embarrassment         60742 non-null  int64 \n",
      " 20  excitement            60742 non-null  int64 \n",
      " 21  fear                  60742 non-null  int64 \n",
      " 22  gratitude             60742 non-null  int64 \n",
      " 23  grief                 60742 non-null  int64 \n",
      " 24  joy                   60742 non-null  int64 \n",
      " 25  love                  60742 non-null  int64 \n",
      " 26  nervousness           60742 non-null  int64 \n",
      " 27  optimism              60742 non-null  int64 \n",
      " 28  pride                 60742 non-null  int64 \n",
      " 29  realization           60742 non-null  int64 \n",
      " 30  relief                60742 non-null  int64 \n",
      " 31  remorse               60742 non-null  int64 \n",
      " 32  sadness               60742 non-null  int64 \n",
      " 33  surprise              60742 non-null  int64 \n",
      " 34  neutral               60742 non-null  int64 \n",
      "dtypes: bool(1), int64(28), object(6)\n",
      "memory usage: 15.8+ MB\n"
     ]
    }
   ],
   "source": [
    "df.info()"
   ]
  },
  {
   "cell_type": "code",
   "execution_count": 16,
   "metadata": {},
   "outputs": [],
   "source": [
    "df['num_ratings'] = df.iloc[:, -28:].sum(axis=1)"
   ]
  },
  {
   "cell_type": "code",
   "execution_count": 17,
   "metadata": {},
   "outputs": [
    {
     "data": {
      "text/plain": [
       "count    60742.000000\n",
       "mean         7.651971\n",
       "std          3.453818\n",
       "min          0.000000\n",
       "25%          6.000000\n",
       "50%          8.000000\n",
       "75%         10.000000\n",
       "max         32.000000\n",
       "Name: num_ratings, dtype: float64"
      ]
     },
     "execution_count": 17,
     "metadata": {},
     "output_type": "execute_result"
    }
   ],
   "source": [
    "df['num_ratings'].describe()"
   ]
  },
  {
   "cell_type": "code",
   "execution_count": 19,
   "metadata": {},
   "outputs": [
    {
     "data": {
      "text/plain": [
       "3391"
      ]
     },
     "execution_count": 19,
     "metadata": {},
     "output_type": "execute_result"
    }
   ],
   "source": [
    "len(df[df['num_ratings']==0])"
   ]
  },
  {
   "cell_type": "code",
   "execution_count": 20,
   "metadata": {},
   "outputs": [],
   "source": [
    "df = df[df['num_ratings']!=0]"
   ]
  },
  {
   "cell_type": "code",
   "execution_count": 21,
   "metadata": {},
   "outputs": [],
   "source": [
    "emotions = np.array(df[['admiration',\n",
    "       'amusement', 'anger', 'annoyance', 'approval', 'caring', 'confusion',\n",
    "       'curiosity', 'desire', 'disappointment', 'disapproval', 'disgust',\n",
    "       'embarrassment', 'excitement', 'fear', 'gratitude', 'grief', 'joy',\n",
    "       'love', 'nervousness', 'optimism', 'pride', 'realization', 'relief',\n",
    "       'remorse', 'sadness', 'surprise', 'neutral']])"
   ]
  },
  {
   "cell_type": "code",
   "execution_count": 22,
   "metadata": {},
   "outputs": [],
   "source": [
    "emotion_feats = ['admiration',\n",
    "       'amusement', 'anger', 'annoyance', 'approval', 'caring', 'confusion',\n",
    "       'curiosity', 'desire', 'disappointment', 'disapproval', 'disgust',\n",
    "       'embarrassment', 'excitement', 'fear', 'gratitude', 'grief', 'joy',\n",
    "       'love', 'nervousness', 'optimism', 'pride', 'realization', 'relief',\n",
    "       'remorse', 'sadness', 'surprise', 'neutral']\n",
    "emotion_feats = np.array(emotion_feats)"
   ]
  },
  {
   "cell_type": "code",
   "execution_count": 23,
   "metadata": {},
   "outputs": [],
   "source": [
    "#find max rated emotion for each text\n",
    "max_idxs = np.argmax(emotions, axis = 1)"
   ]
  },
  {
   "cell_type": "code",
   "execution_count": 24,
   "metadata": {},
   "outputs": [],
   "source": [
    "#np indexing to get column of emotions\n",
    "emotions_grouped = emotion_feats[max_idxs]"
   ]
  },
  {
   "cell_type": "code",
   "execution_count": 25,
   "metadata": {},
   "outputs": [],
   "source": [
    "df = df.drop(columns=['admiration',\n",
    "       'amusement', 'anger', 'annoyance', 'approval', 'caring', 'confusion',\n",
    "       'curiosity', 'desire', 'disappointment', 'disapproval', 'disgust',\n",
    "       'embarrassment', 'excitement', 'fear', 'gratitude', 'grief', 'joy',\n",
    "       'love', 'nervousness', 'optimism', 'pride', 'realization', 'relief',\n",
    "       'remorse', 'sadness', 'surprise', 'neutral']).reset_index()\n",
    "df['emotion_classification'] = emotions_grouped\n",
    "df = df.drop(columns = ['index'])"
   ]
  },
  {
   "cell_type": "code",
   "execution_count": 26,
   "metadata": {},
   "outputs": [
    {
     "data": {
      "text/html": [
       "<div>\n",
       "<style scoped>\n",
       "    .dataframe tbody tr th:only-of-type {\n",
       "        vertical-align: middle;\n",
       "    }\n",
       "\n",
       "    .dataframe tbody tr th {\n",
       "        vertical-align: top;\n",
       "    }\n",
       "\n",
       "    .dataframe thead th {\n",
       "        text-align: right;\n",
       "    }\n",
       "</style>\n",
       "<table border=\"1\" class=\"dataframe\">\n",
       "  <thead>\n",
       "    <tr style=\"text-align: right;\">\n",
       "      <th></th>\n",
       "      <th>text</th>\n",
       "      <th>id</th>\n",
       "      <th>author</th>\n",
       "      <th>subreddit</th>\n",
       "      <th>link_id</th>\n",
       "      <th>parent_id</th>\n",
       "      <th>example_very_unclear</th>\n",
       "      <th>num_ratings</th>\n",
       "      <th>emotion_classification</th>\n",
       "    </tr>\n",
       "  </thead>\n",
       "  <tbody>\n",
       "    <tr>\n",
       "      <th>0</th>\n",
       "      <td>\"If you don't wear BROWN AND ORANGE...YOU DON...</td>\n",
       "      <td>ee3fxil</td>\n",
       "      <td>pj7140</td>\n",
       "      <td>Browns</td>\n",
       "      <td>t3_afy4f0</td>\n",
       "      <td>t3_afy4f0</td>\n",
       "      <td>False</td>\n",
       "      <td>14</td>\n",
       "      <td>annoyance</td>\n",
       "    </tr>\n",
       "    <tr>\n",
       "      <th>1</th>\n",
       "      <td>\"What do Scottish people look like?\" How I wo...</td>\n",
       "      <td>ee7cu0z</td>\n",
       "      <td>Cheezeburger_Picnic</td>\n",
       "      <td>Scotland</td>\n",
       "      <td>t3_agmpx9</td>\n",
       "      <td>t3_agmpx9</td>\n",
       "      <td>False</td>\n",
       "      <td>10</td>\n",
       "      <td>curiosity</td>\n",
       "    </tr>\n",
       "    <tr>\n",
       "      <th>2</th>\n",
       "      <td>### A surprise, to be sure, but a welcome one</td>\n",
       "      <td>edglo8q</td>\n",
       "      <td>GPFlopi</td>\n",
       "      <td>youseeingthisshit</td>\n",
       "      <td>t3_ad1hnf</td>\n",
       "      <td>t3_ad1hnf</td>\n",
       "      <td>False</td>\n",
       "      <td>6</td>\n",
       "      <td>surprise</td>\n",
       "    </tr>\n",
       "    <tr>\n",
       "      <th>3</th>\n",
       "      <td>'*Pray*, v. To ask that the laws of the unive...</td>\n",
       "      <td>edcjn6t</td>\n",
       "      <td>DarrenFromFinance</td>\n",
       "      <td>exchristian</td>\n",
       "      <td>t3_ad0jpf</td>\n",
       "      <td>t3_ad0jpf</td>\n",
       "      <td>False</td>\n",
       "      <td>6</td>\n",
       "      <td>neutral</td>\n",
       "    </tr>\n",
       "    <tr>\n",
       "      <th>4</th>\n",
       "      <td>&gt;it'll get invaded by tankie, unfortunately. ...</td>\n",
       "      <td>eevxqzo</td>\n",
       "      <td>BarrelMaker69</td>\n",
       "      <td>BreadTube</td>\n",
       "      <td>t3_ajbca2</td>\n",
       "      <td>t1_eevv6db</td>\n",
       "      <td>False</td>\n",
       "      <td>4</td>\n",
       "      <td>neutral</td>\n",
       "    </tr>\n",
       "  </tbody>\n",
       "</table>\n",
       "</div>"
      ],
      "text/plain": [
       "                                                text       id  \\\n",
       "0   \"If you don't wear BROWN AND ORANGE...YOU DON...  ee3fxil   \n",
       "1   \"What do Scottish people look like?\" How I wo...  ee7cu0z   \n",
       "2     ### A surprise, to be sure, but a welcome one   edglo8q   \n",
       "3   '*Pray*, v. To ask that the laws of the unive...  edcjn6t   \n",
       "4   >it'll get invaded by tankie, unfortunately. ...  eevxqzo   \n",
       "\n",
       "                author          subreddit    link_id   parent_id  \\\n",
       "0               pj7140             Browns  t3_afy4f0   t3_afy4f0   \n",
       "1  Cheezeburger_Picnic           Scotland  t3_agmpx9   t3_agmpx9   \n",
       "2              GPFlopi  youseeingthisshit  t3_ad1hnf   t3_ad1hnf   \n",
       "3    DarrenFromFinance        exchristian  t3_ad0jpf   t3_ad0jpf   \n",
       "4        BarrelMaker69          BreadTube  t3_ajbca2  t1_eevv6db   \n",
       "\n",
       "   example_very_unclear  num_ratings emotion_classification  \n",
       "0                 False           14              annoyance  \n",
       "1                 False           10              curiosity  \n",
       "2                 False            6               surprise  \n",
       "3                 False            6                neutral  \n",
       "4                 False            4                neutral  "
      ]
     },
     "execution_count": 26,
     "metadata": {},
     "output_type": "execute_result"
    }
   ],
   "source": [
    "df.head()"
   ]
  },
  {
   "cell_type": "code",
   "execution_count": 27,
   "metadata": {},
   "outputs": [
    {
     "data": {
      "text/plain": [
       "array(['annoyance', 'curiosity', 'surprise', 'neutral', 'disapproval',\n",
       "       'approval', 'admiration', 'anger', 'amusement', 'fear',\n",
       "       'excitement', 'disappointment', 'gratitude', 'sadness', 'caring',\n",
       "       'joy', 'optimism', 'disgust', 'remorse', 'love', 'confusion',\n",
       "       'realization', 'embarrassment', 'pride', 'relief', 'desire',\n",
       "       'grief', 'nervousness'], dtype=object)"
      ]
     },
     "execution_count": 27,
     "metadata": {},
     "output_type": "execute_result"
    }
   ],
   "source": [
    "emotion_classification = df['emotion_classification'].unique()\n",
    "emotion_classification"
   ]
  },
  {
   "cell_type": "code",
   "execution_count": 28,
   "metadata": {},
   "outputs": [],
   "source": [
    "emotion_class_counts = df.groupby('emotion_classification').count()"
   ]
  },
  {
   "cell_type": "code",
   "execution_count": 29,
   "metadata": {},
   "outputs": [],
   "source": [
    "emotion_class_counts = emotion_class_counts.sort_values('text', ascending = False).reset_index()"
   ]
  },
  {
   "cell_type": "code",
   "execution_count": 31,
   "metadata": {},
   "outputs": [
    {
     "data": {
      "image/png": "[encoded data removed]",
      "text/plain": [
       "<Figure size 720x720 with 1 Axes>"
      ]
     },
     "metadata": {
      "needs_background": "light"
     },
     "output_type": "display_data"
    }
   ],
   "source": [
    "fig, ax = plt.subplots(figsize = (10,10))\n",
    "x = np.arange(len(emotion_class_counts['emotion_classification']))\n",
    "ax.bar(emotion_class_counts['emotion_classification'], emotion_class_counts['text'])\n",
    "ax.set_xticks(x)\n",
    "ax.set_xticklabels(emotion_class_counts['emotion_classification'], rotation='vertical', fontsize = 16)\n",
    "ax.set_title('Distribution of Emotions', fontsize = 18)\n",
    "ax.set_xlabel('Emotion Classifications', fontsize = 16)\n",
    "ax.set_ylabel('Count of Rated Posts', fontsize = 16)\n",
    "fig.savefig('../images/emotion_counts.jpeg');"
   ]
  },
  {
   "cell_type": "markdown",
   "metadata": {},
   "source": [
    "### Grouping classifications into Positive, Negative, Neutral\n",
    "\n",
    "Positive\n",
    "'surprise'\n",
    "'approval'\n",
    "'amusement'\n",
    "'caring'\n",
    "'love'\n",
    "'desire'\n",
    "'embarrassment'\n",
    "'pride'\n",
    "'joy'\n",
    "'optimism'\n",
    "'relief'\n",
    "'excitement'\n",
    "'curiosity'\n",
    "'gratitude'\n",
    "'realization'\n",
    "\n",
    "Negative\n",
    "'annoyance'\n",
    "'sadness'\n",
    "'grief'\n",
    "'nervousness'\n",
    "'confusion'\n",
    "'anger'\n",
    "'fear'\n",
    "'disgust'\n",
    "'disapproval'\n",
    "'disappointment'\n",
    "'remorse'\n",
    "\n",
    "Neutral\n",
    "'neutral"
   ]
  },
  {
   "cell_type": "code",
   "execution_count": 32,
   "metadata": {},
   "outputs": [],
   "source": [
    "positive_lst = ['surprise', 'approval', 'amusement', 'caring', 'love', 'desire', 'embarrassment', 'pride', 'joy', 'optimism', 'relief', 'excitement', 'curiosity', 'gratitude', 'realization']\n",
    "\n",
    "negative_lst = ['annoyance', 'sadness', 'grief', 'nervousness', 'confusion', 'anger', 'fear', 'disgust', 'disapproval', 'disappointment', 'remorse']"
   ]
  },
  {
   "cell_type": "code",
   "execution_count": 33,
   "metadata": {},
   "outputs": [],
   "source": [
    "df['tone'] = 'neutral'\n"
   ]
  },
  {
   "cell_type": "code",
   "execution_count": 34,
   "metadata": {},
   "outputs": [
    {
     "name": "stderr",
     "output_type": "stream",
     "text": [
      "/Users/jamiewessels/anaconda3/lib/python3.7/site-packages/ipykernel_launcher.py:1: SettingWithCopyWarning: \n",
      "A value is trying to be set on a copy of a slice from a DataFrame\n",
      "\n",
      "See the caveats in the documentation: https://pandas.pydata.org/pandas-docs/stable/user_guide/indexing.html#returning-a-view-versus-a-copy\n",
      "  \"\"\"Entry point for launching an IPython kernel.\n",
      "/Users/jamiewessels/anaconda3/lib/python3.7/site-packages/ipykernel_launcher.py:2: SettingWithCopyWarning: \n",
      "A value is trying to be set on a copy of a slice from a DataFrame\n",
      "\n",
      "See the caveats in the documentation: https://pandas.pydata.org/pandas-docs/stable/user_guide/indexing.html#returning-a-view-versus-a-copy\n",
      "  \n"
     ]
    }
   ],
   "source": [
    "df['tone'][df['emotion_classification'].isin(positive_lst)] = 'positive'\n",
    "df['tone'][df['emotion_classification'].isin(negative_lst)] = 'negative'"
   ]
  },
  {
   "cell_type": "code",
   "execution_count": 37,
   "metadata": {},
   "outputs": [
    {
     "data": {
      "text/html": [
       "<div>\n",
       "<style scoped>\n",
       "    .dataframe tbody tr th:only-of-type {\n",
       "        vertical-align: middle;\n",
       "    }\n",
       "\n",
       "    .dataframe tbody tr th {\n",
       "        vertical-align: top;\n",
       "    }\n",
       "\n",
       "    .dataframe thead th {\n",
       "        text-align: right;\n",
       "    }\n",
       "</style>\n",
       "<table border=\"1\" class=\"dataframe\">\n",
       "  <thead>\n",
       "    <tr style=\"text-align: right;\">\n",
       "      <th></th>\n",
       "      <th>text</th>\n",
       "      <th>id</th>\n",
       "      <th>author</th>\n",
       "      <th>subreddit</th>\n",
       "      <th>link_id</th>\n",
       "      <th>parent_id</th>\n",
       "      <th>example_very_unclear</th>\n",
       "      <th>num_ratings</th>\n",
       "      <th>emotion_classification</th>\n",
       "      <th>tone</th>\n",
       "    </tr>\n",
       "  </thead>\n",
       "  <tbody>\n",
       "    <tr>\n",
       "      <th>0</th>\n",
       "      <td>\"If you don't wear BROWN AND ORANGE...YOU DON...</td>\n",
       "      <td>ee3fxil</td>\n",
       "      <td>pj7140</td>\n",
       "      <td>Browns</td>\n",
       "      <td>t3_afy4f0</td>\n",
       "      <td>t3_afy4f0</td>\n",
       "      <td>False</td>\n",
       "      <td>14</td>\n",
       "      <td>annoyance</td>\n",
       "      <td>negative</td>\n",
       "    </tr>\n",
       "    <tr>\n",
       "      <th>1</th>\n",
       "      <td>\"What do Scottish people look like?\" How I wo...</td>\n",
       "      <td>ee7cu0z</td>\n",
       "      <td>Cheezeburger_Picnic</td>\n",
       "      <td>Scotland</td>\n",
       "      <td>t3_agmpx9</td>\n",
       "      <td>t3_agmpx9</td>\n",
       "      <td>False</td>\n",
       "      <td>10</td>\n",
       "      <td>curiosity</td>\n",
       "      <td>positive</td>\n",
       "    </tr>\n",
       "    <tr>\n",
       "      <th>2</th>\n",
       "      <td>### A surprise, to be sure, but a welcome one</td>\n",
       "      <td>edglo8q</td>\n",
       "      <td>GPFlopi</td>\n",
       "      <td>youseeingthisshit</td>\n",
       "      <td>t3_ad1hnf</td>\n",
       "      <td>t3_ad1hnf</td>\n",
       "      <td>False</td>\n",
       "      <td>6</td>\n",
       "      <td>surprise</td>\n",
       "      <td>positive</td>\n",
       "    </tr>\n",
       "    <tr>\n",
       "      <th>3</th>\n",
       "      <td>'*Pray*, v. To ask that the laws of the unive...</td>\n",
       "      <td>edcjn6t</td>\n",
       "      <td>DarrenFromFinance</td>\n",
       "      <td>exchristian</td>\n",
       "      <td>t3_ad0jpf</td>\n",
       "      <td>t3_ad0jpf</td>\n",
       "      <td>False</td>\n",
       "      <td>6</td>\n",
       "      <td>neutral</td>\n",
       "      <td>neutral</td>\n",
       "    </tr>\n",
       "    <tr>\n",
       "      <th>4</th>\n",
       "      <td>&gt;it'll get invaded by tankie, unfortunately. ...</td>\n",
       "      <td>eevxqzo</td>\n",
       "      <td>BarrelMaker69</td>\n",
       "      <td>BreadTube</td>\n",
       "      <td>t3_ajbca2</td>\n",
       "      <td>t1_eevv6db</td>\n",
       "      <td>False</td>\n",
       "      <td>4</td>\n",
       "      <td>neutral</td>\n",
       "      <td>neutral</td>\n",
       "    </tr>\n",
       "  </tbody>\n",
       "</table>\n",
       "</div>"
      ],
      "text/plain": [
       "                                                text       id  \\\n",
       "0   \"If you don't wear BROWN AND ORANGE...YOU DON...  ee3fxil   \n",
       "1   \"What do Scottish people look like?\" How I wo...  ee7cu0z   \n",
       "2     ### A surprise, to be sure, but a welcome one   edglo8q   \n",
       "3   '*Pray*, v. To ask that the laws of the unive...  edcjn6t   \n",
       "4   >it'll get invaded by tankie, unfortunately. ...  eevxqzo   \n",
       "\n",
       "                author          subreddit    link_id   parent_id  \\\n",
       "0               pj7140             Browns  t3_afy4f0   t3_afy4f0   \n",
       "1  Cheezeburger_Picnic           Scotland  t3_agmpx9   t3_agmpx9   \n",
       "2              GPFlopi  youseeingthisshit  t3_ad1hnf   t3_ad1hnf   \n",
       "3    DarrenFromFinance        exchristian  t3_ad0jpf   t3_ad0jpf   \n",
       "4        BarrelMaker69          BreadTube  t3_ajbca2  t1_eevv6db   \n",
       "\n",
       "   example_very_unclear  num_ratings emotion_classification      tone  \n",
       "0                 False           14              annoyance  negative  \n",
       "1                 False           10              curiosity  positive  \n",
       "2                 False            6               surprise  positive  \n",
       "3                 False            6                neutral   neutral  \n",
       "4                 False            4                neutral   neutral  "
      ]
     },
     "execution_count": 37,
     "metadata": {},
     "output_type": "execute_result"
    }
   ],
   "source": [
    "df.head()"
   ]
  },
  {
   "cell_type": "code",
   "execution_count": 38,
   "metadata": {},
   "outputs": [],
   "source": [
    "df.to_csv('grouped_emotions.csv')"
   ]
  },
  {
   "cell_type": "code",
   "execution_count": 36,
   "metadata": {},
   "outputs": [],
   "source": [
    "tone_class_counts = df.groupby('tone').count().reset_index()"
   ]
  },
  {
   "cell_type": "code",
   "execution_count": 39,
   "metadata": {},
   "outputs": [],
   "source": [
    "tone_class_counts = tone_class_counts.sort_values('text', ascending = False)"
   ]
  },
  {
   "cell_type": "code",
   "execution_count": 40,
   "metadata": {},
   "outputs": [
    {
     "data": {
      "text/html": [
       "<div>\n",
       "<style scoped>\n",
       "    .dataframe tbody tr th:only-of-type {\n",
       "        vertical-align: middle;\n",
       "    }\n",
       "\n",
       "    .dataframe tbody tr th {\n",
       "        vertical-align: top;\n",
       "    }\n",
       "\n",
       "    .dataframe thead th {\n",
       "        text-align: right;\n",
       "    }\n",
       "</style>\n",
       "<table border=\"1\" class=\"dataframe\">\n",
       "  <thead>\n",
       "    <tr style=\"text-align: right;\">\n",
       "      <th></th>\n",
       "      <th>tone</th>\n",
       "      <th>text</th>\n",
       "      <th>id</th>\n",
       "      <th>author</th>\n",
       "      <th>subreddit</th>\n",
       "      <th>link_id</th>\n",
       "      <th>parent_id</th>\n",
       "      <th>example_very_unclear</th>\n",
       "      <th>emotion_classification</th>\n",
       "    </tr>\n",
       "  </thead>\n",
       "  <tbody>\n",
       "    <tr>\n",
       "      <th>1</th>\n",
       "      <td>neutral</td>\n",
       "      <td>24372</td>\n",
       "      <td>24372</td>\n",
       "      <td>24372</td>\n",
       "      <td>24372</td>\n",
       "      <td>24372</td>\n",
       "      <td>24372</td>\n",
       "      <td>24372</td>\n",
       "      <td>24372</td>\n",
       "    </tr>\n",
       "    <tr>\n",
       "      <th>2</th>\n",
       "      <td>positive</td>\n",
       "      <td>22016</td>\n",
       "      <td>22016</td>\n",
       "      <td>22016</td>\n",
       "      <td>22016</td>\n",
       "      <td>22016</td>\n",
       "      <td>22016</td>\n",
       "      <td>22016</td>\n",
       "      <td>22016</td>\n",
       "    </tr>\n",
       "    <tr>\n",
       "      <th>0</th>\n",
       "      <td>negative</td>\n",
       "      <td>14354</td>\n",
       "      <td>14354</td>\n",
       "      <td>14354</td>\n",
       "      <td>14354</td>\n",
       "      <td>14354</td>\n",
       "      <td>14354</td>\n",
       "      <td>14354</td>\n",
       "      <td>14354</td>\n",
       "    </tr>\n",
       "  </tbody>\n",
       "</table>\n",
       "</div>"
      ],
      "text/plain": [
       "       tone   text     id  author  subreddit  link_id  parent_id  \\\n",
       "1   neutral  24372  24372   24372      24372    24372      24372   \n",
       "2  positive  22016  22016   22016      22016    22016      22016   \n",
       "0  negative  14354  14354   14354      14354    14354      14354   \n",
       "\n",
       "   example_very_unclear  emotion_classification  \n",
       "1                 24372                   24372  \n",
       "2                 22016                   22016  \n",
       "0                 14354                   14354  "
      ]
     },
     "execution_count": 40,
     "metadata": {},
     "output_type": "execute_result"
    }
   ],
   "source": [
    "tone_class_counts"
   ]
  },
  {
   "cell_type": "code",
   "execution_count": 44,
   "metadata": {},
   "outputs": [
    {
     "data": {
      "image/png": "[encoded data removed]",
      "text/plain": [
       "<Figure size 720x720 with 1 Axes>"
      ]
     },
     "metadata": {
      "needs_background": "light"
     },
     "output_type": "display_data"
    }
   ],
   "source": [
    "fig, ax = plt.subplots(figsize = (10,10))\n",
    "x = np.arange(len(tone_class_counts['tone']))\n",
    "ax.bar(tone_class_counts['tone'], tone_class_counts['text'])\n",
    "ax.set_xticks(x)\n",
    "ax.set_xticklabels(tone_class_counts['tone'], rotation='vertical', fontsize = 16)\n",
    "ax.set_yticklabels(np.arange(0, 25000, 5000), fontsize = 14)\n",
    "ax.set_title('Distribution of Tone Labels', fontsize = 18)\n",
    "ax.set_xlabel('Tone Classifications', fontsize = 16)\n",
    "ax.set_ylabel('Count', fontsize = 16)\n",
    "fig.savefig('../images/tone_counts.jpeg');"
   ]
  }
 ],
 "metadata": {
  "kernelspec": {
   "display_name": "Python 3",
   "language": "python",
   "name": "python3"
  },
  "language_info": {
   "codemirror_mode": {
    "name": "ipython",
    "version": 3
   },
   "file_extension": ".py",
   "mimetype": "text/x-python",
   "name": "python",
   "nbconvert_exporter": "python",
   "pygments_lexer": "ipython3",
   "version": "3.7.6"
  }
 },
 "nbformat": 4,
 "nbformat_minor": 4
}
